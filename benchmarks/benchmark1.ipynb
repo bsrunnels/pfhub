{
 "cells": [
  {
   "cell_type": "code",
   "execution_count": 1,
   "metadata": {
    "scrolled": true
   },
   "outputs": [
    {
     "data": {
      "text/html": [
       "<script>\n",
       "code_show=true; \n",
       "function code_toggle() {\n",
       " if (code_show){\n",
       " $('div.input').hide();\n",
       " $('div.prompt').hide();\n",
       " } else {\n",
       " $('div.input').show();\n",
       "$('div.prompt').show();\n",
       " }\n",
       " code_show = !code_show\n",
       "} \n",
       "$( document ).ready(code_toggle);\n",
       "</script>\n",
       "<form action=\"javascript:code_toggle()\"><input type=\"submit\" value=\"Code Toggle\"></form>"
      ],
      "text/plain": [
       "<IPython.core.display.HTML object>"
      ]
     },
     "execution_count": 1,
     "metadata": {},
     "output_type": "execute_result"
    }
   ],
   "source": [
    "# from warnings import filterwarnings\n",
    "# filterwarnings(\"ignore\", category=UserWarning)\n",
    "# filterwarnings(\"ignore\", category=DeprecationWarning)\n",
    "\n",
    "from IPython.display import HTML\n",
    "\n",
    "HTML('''<script>\n",
    "code_show=true; \n",
    "function code_toggle() {\n",
    " if (code_show){\n",
    " $('div.input').hide();\n",
    " $('div.prompt').hide();\n",
    " } else {\n",
    " $('div.input').show();\n",
    "$('div.prompt').show();\n",
    " }\n",
    " code_show = !code_show\n",
    "} \n",
    "$( document ).ready(code_toggle);\n",
    "</script>\n",
    "<form action=\"javascript:code_toggle()\"><input type=\"submit\" value=\"Code Toggle\"></form>''')"
   ]
  },
  {
   "cell_type": "code",
   "execution_count": 2,
   "metadata": {},
   "outputs": [
    {
     "data": {
      "text/html": [
       "\n",
       "<a href=\"{{ site.links.github }}/raw/nist-pages/benchmarks/benchmark1.ipynb\"\n",
       "   download>\n",
       "<button type=\"submit\">Download Notebook</button>\n",
       "</a>\n"
      ],
      "text/plain": [
       "<IPython.core.display.HTML object>"
      ]
     },
     "execution_count": 2,
     "metadata": {},
     "output_type": "execute_result"
    }
   ],
   "source": [
    "from IPython.display import HTML\n",
    "\n",
    "HTML('''\n",
    "<a href=\"{{ site.links.github }}/raw/nist-pages/benchmarks/benchmark1.ipynb\"\n",
    "   download>\n",
    "<button type=\"submit\">Download Notebook</button>\n",
    "</a>\n",
    "''')"
   ]
  },
  {
   "cell_type": "markdown",
   "metadata": {},
   "source": [
    "# Benchmark Problem 1:  Spinodal Decomposition"
   ]
  },
  {
   "cell_type": "code",
   "execution_count": 3,
   "metadata": {},
   "outputs": [
    {
     "data": {
      "text/html": [
       "{% include jupyter_benchmark_table.html num=\"[1]\" revision=1 %}"
      ],
      "text/plain": [
       "<IPython.core.display.HTML object>"
      ]
     },
     "execution_count": 3,
     "metadata": {},
     "output_type": "execute_result"
    }
   ],
   "source": [
    "from IPython.display import HTML\n",
    "\n",
    "HTML('''{% include jupyter_benchmark_table.html num=\"[1]\" revision=1 %}''')"
   ]
  },
  {
   "cell_type": "markdown",
   "metadata": {
    "collapsed": true
   },
   "source": [
    " \n",
    " * [Overview](#Overview)\n",
    " * [Free energy and dynamics](#Free-energy-and-dynamics)\n",
    "    * [Figure 1: free energy density](#Figure-1:-free-energy-density)\n",
    " * [Parameter values](#Parameter-values)\n",
    " * [Domain geometries and boundary conditions](#Domain-geometries-and-boundary-conditions)\n",
    "\t* [(a) Square periodic](#%28a%29-Square-periodic)\n",
    "\t* [(b) Square no-flux](#%28b%29-Square-no-flux)\n",
    "\t* [(c) T-shape](#%28c%29-T-shape)\n",
    "\t* [(d) Sphere](#%28d%29-Sphere)\n",
    " * [Initial conditions](#Initial-conditions)\n",
    "\t* [Initial conditions for (a), (b) and (c)](#Initial-conditions-for-%28a%29,-%28b%29-and-%28c%29)\n",
    "       * [Figure 2: initial $c$ for (a), (b) and (c)](#Figure-2:-initial-$c$-for-%28a%29,-%28b%29-and-%28c%29)\n",
    "\t* [Initial conditions for (d)](#Initial-conditions-for-%28d%29)\n",
    "       * [Figure 3: initial $c$ for (d)](#Figure-3:-initial-$c$-for-%28d%29)\n",
    " * [Submission Guidelines](#Submission-Guidelines)\n",
    " * [Results](#Results)\n"
   ]
  },
  {
   "cell_type": "markdown",
   "metadata": {},
   "source": [
    "See the journal publication entitled [\"Benchmark problems for numerical implementations of phase field models\"][benchmark_paper] for more details about the benchmark problems. Furthermore, read [the extended essay][benchmarks] for a discussion about the need for benchmark problems.\n",
    "\n",
    "[benchmarks]: ../\n",
    "[benchmark_paper]: http://dx.doi.org/10.1016/j.commatsci.2016.09.022"
   ]
  },
  {
   "cell_type": "markdown",
   "metadata": {},
   "source": [
    "## Overview"
   ]
  },
  {
   "cell_type": "markdown",
   "metadata": {},
   "source": [
    "Spinodal decomposition is one of the oldest problems in the phase field canon, and its formulation in terms of continuum fields goes back to the seminal works by Cahn and Hilliard [[1][cahn1961spinodal]]. The Cahn-Hilliard equation thus predates the name \"phase field\" in this context, but the term has subsequently  been adopted by the community. While spinodal decomposition may be one of the simplest problems to model, it is highly relevant, as a large number of phase field models include the diffusion of a solute within a matrix. Furthermore, precipitation and growth may also be modeled with the same formulation if the appropriate initial conditions are chosen. For the benchmark problem, we select a simple formulation that is numerically tractable so that results may be obtained quickly and interpreted easily, testing the essential physics while minimizing model complexity and the chance to introduce coding errors.\n",
    "\n",
    "[cahn1961spinodal]: http://dx.doi.org/10.1016/0001-6160(61)90182-1"
   ]
  },
  {
   "cell_type": "markdown",
   "metadata": {},
   "source": [
    "## Free energy and dynamics"
   ]
  },
  {
   "cell_type": "markdown",
   "metadata": {},
   "source": [
    "The spinodal decomposition benchmark problem has a single order parameter, $c$, which describes the atomic fraction of solute. The free energy of the system, $F$, is expressed as \n",
    "$$\n",
    "F=\\int_{V}\\left(f_{chem}\\left(c\\right)+\\frac{\\kappa}{2}|\\nabla c|^{2}\\right)dV,\n",
    "$$\n",
    "where $f_{chem}$ is the chemical free energy density and $\\kappa$ is the gradient energy coefficient. For this problem, we choose $f_{chem}$ to have a simple polynomial form,\n",
    "$$\n",
    "f_{chem}\\left(c\\right)=\\varrho_{s}\\left(c-c_{\\alpha}\\right)^{2}\\left(c_{\\beta}-c\\right)^{2},\n",
    "$$\n",
    "such that $f_{chem}$ is a symmetric double-well with minima at $c_{\\alpha}$ and $c_{\\beta}$, and $\\varrho_{s}$ controls the height of the double-well barrier. Because $f_{chem}$ is symmetric (Fig. 1), $c_{\\alpha}$ and $c_{\\beta}$ correspond exactly with the equilibrium atomic fractions of the $\\alpha$ and $\\beta$ phases. "
   ]
  },
  {
   "cell_type": "markdown",
   "metadata": {},
   "source": [
    "#### Figure 1: free energy density"
   ]
  },
  {
   "cell_type": "code",
   "execution_count": 4,
   "metadata": {
    "scrolled": true
   },
   "outputs": [
    {
     "data": {
      "image/png": "[encoded data removed]",
      "text/plain": [
       "<Figure size 600x500 with 1 Axes>"
      ]
     },
     "metadata": {},
     "output_type": "display_data"
    }
   ],
   "source": [
    "%matplotlib inline\n",
    "import matplotlib.pyplot as plt\n",
    "import numpy as np\n",
    "\n",
    "c_alpha = 0.3\n",
    "c_beta = 0.7\n",
    "rho_s = 5.\n",
    "\n",
    "c = np.linspace(0, 1, 1000)\n",
    "plt.figure(figsize=(6, 5))\n",
    "plt.plot(c, rho_s * (c - c_alpha)**2 * (c - c_beta)**2, lw=4, color='k')\n",
    "plt.xlabel(\"Atomic fraction, $c$\", fontsize=20)\n",
    "plt.ylabel(\"Free energy density, $f$\", fontsize=20)\n",
    "plt.xticks([0, 0.5, 1.0], fontsize=15)\n",
    "plt.yticks([0, 0.1, 0.2], fontsize=15)\n",
    "plt.show()"
   ]
  },
  {
   "cell_type": "markdown",
   "metadata": {
    "collapsed": true
   },
   "source": [
    "Because $c$ must obey a continuity equation -- the flux of $c$ is conserved -- the evolution of $c$ is given by the Cahn-Hilliard equation [[1][cahn1961spinodal]], which is derived from an Onsager force-flux relationship <span data-proofer-ignore>[[2][balluffi2005kinetics]]</span>:\n",
    "$$\n",
    "\\frac{\\partial c}{\\partial t}=\\nabla\\cdot\\Bigg\\{M\\nabla\\left(\\frac{\\partial f_{chem}}{\\partial c}-\\kappa\\nabla^{2}c\\right)\\Bigg\\}\n",
    "$$\n",
    "where $M$ is the mobility of the solute. For simplicity, both the mobility and the interfacial energy are isotropic. We choose $c_{\\alpha}=0.3$, $c_{\\beta}=0.7$, $\\varrho_{s}=5$, $M=5$, and $\\kappa=2$. Because the interfacial energy, diffuse interface width, and free energy parameterization are coupled, we obtain the diffuse interface width of $l=7.071 \\sqrt{\\kappa/\\varrho_s}=4.47$ units over which $c$ varies as  $0.348<c<0.652$, and an interfacial energy $\\sigma=0.01508\\sqrt{\\kappa \\varrho_s}$ [[3][cahn1958free]].\n",
    "\n",
    "[cahn1961spinodal]: http://dx.doi.org/10.1016/0001-6160(61)90182-1\n",
    "[balluffi2005kinetics]: https://dx.doi.org/10.1002/0471749311 \n",
    "[cahn1958free]: http://dx.doi.org/10.1063/1.1744102"
   ]
  },
  {
   "cell_type": "markdown",
   "metadata": {},
   "source": [
    "## Parameter values"
   ]
  },
  {
   "cell_type": "markdown",
   "metadata": {},
   "source": [
    "<table width=\"200\">\n",
    "<tr>\n",
    "<td> $c_{\\alpha}$ </td>\n",
    "<td> 0.3 </td>\n",
    "</tr>\n",
    "<tr>\n",
    "<td> $c_{\\beta}$ </td>\n",
    "<td> 0.7 </td>\n",
    "</tr>\n",
    "<tr>\n",
    "<td> $\\varrho_{s}$ </td>\n",
    "<td> 5 </td>\n",
    "</tr>\n",
    "<tr>\n",
    "<td> $\\kappa$ </td>\n",
    "<td> 2 </td>\n",
    "</tr>\n",
    "<tr>\n",
    "<td> $M$ </td>\n",
    "<td> 5 </td>\n",
    "</tr>\n",
    "<tr>\n",
    "<td> $\\epsilon$ </td>\n",
    "<td> 0.01 </td>\n",
    "</tr>\n",
    "<tr>\n",
    "<td> $\\epsilon_{\\text{sphere}}$ </td>\n",
    "<td> 0.05 </td>\n",
    "</tr>\n",
    "<tr>\n",
    "<td> $c_0$ </td>\n",
    "<td> 0.5 </td>\n",
    "</tr>\n",
    "</table>"
   ]
  },
  {
   "cell_type": "markdown",
   "metadata": {},
   "source": [
    "## Domain geometries and boundary conditions"
   ]
  },
  {
   "cell_type": "markdown",
   "metadata": {
    "collapsed": true
   },
   "source": [
    "Several boundary conditions, initial conditions and computational domain geometries\n",
    "are used to challenge different aspects of the numerical solver implementation. We test four combinations that are increasingly difficult to solve: two\n",
    "with square computational domains, see (a) and (b), with side lengths of 200 units, one with a computational\n",
    "domain in the shape of a \"T,\" see (c), with a total height of 120 units, a total width of 100 units,\n",
    "and horizontal and vertical section widths of 20 units, and one in which the computational domain is the surface of a sphere with a radius of r = 100 units, see (d). While most codes\n",
    "readily handle rectilinear domains, a spherical domain may pose problems, such as having the\n",
    "solution restricted to a two-dimensional curved surface. The coordinate systems and origins\n",
    "are given in Fig. 2. Periodic boundary conditions are applied to one square domain, see (a), while\n",
    "no-flux boundaries are applied to the other square domain, see (b), and the \"T\"-shaped domain, see (c). Periodic boundary conditions are commonly used with rectangular or rectangular prism domains\n",
    "to simulate an infinite material, while no-flux boundary conditions may be used to simulate\n",
    "an isolated piece of material or a mirror plane. As the computational domain is compact\n",
    "for the spherical surface, no boundary conditions are specified for it. Note that the same\n",
    "initial conditions are used for the square computational domains with no-flux, see (b), and periodic boundary conditions, see (a), such that when periodic boundary conditions\n",
    "are applied, there is a discontinuity in the initial condition at the domain boundaries."
   ]
  },
  {
   "cell_type": "markdown",
   "metadata": {},
   "source": [
    "### (a) Square periodic"
   ]
  },
  {
   "cell_type": "markdown",
   "metadata": {},
   "source": [
    "A 2D square domain with $L_x = L_y = 200$ and periodic boundary conditions."
   ]
  },
  {
   "cell_type": "code",
   "execution_count": 5,
   "metadata": {
    "scrolled": true
   },
   "outputs": [
    {
     "data": {
      "image/svg+xml": [
       "<svg xmlns=\"http://www.w3.org/2000/svg\" xmlns:xlink=\"http://www.w3.org/1999/xlink\" width=\"232px\" height=\"212px\" version=\"1.1\"><defs/><g transform=\"translate(0.5,0.5)\"><rect x=\"71\" y=\"51\" width=\"150\" height=\"150\" fill=\"#000000\" stroke=\"#000000\" pointer-events=\"none\"/><path d=\"M 51 194.63 L 51 57.37\" fill=\"none\" stroke=\"#000000\" stroke-miterlimit=\"10\" pointer-events=\"none\"/><path d=\"M 51 199.88 L 47.5 192.88 L 51 194.63 L 54.5 192.88 Z\" fill=\"#000000\" stroke=\"#000000\" stroke-miterlimit=\"10\" pointer-events=\"none\"/><path d=\"M 51 52.12 L 54.5 59.12 L 51 57.37 L 47.5 59.12 Z\" fill=\"#000000\" stroke=\"#000000\" stroke-miterlimit=\"10\" pointer-events=\"none\"/><path d=\"M 214.63 31 L 77.37 31\" fill=\"none\" stroke=\"#000000\" stroke-miterlimit=\"10\" pointer-events=\"none\"/><path d=\"M 219.88 31 L 212.88 34.5 L 214.63 31 L 212.88 27.5 Z\" fill=\"#000000\" stroke=\"#000000\" stroke-miterlimit=\"10\" pointer-events=\"none\"/><path d=\"M 72.12 31 L 79.12 27.5 L 77.37 31 L 79.12 34.5 Z\" fill=\"#000000\" stroke=\"#000000\" stroke-miterlimit=\"10\" pointer-events=\"none\"/><g transform=\"translate(14.5,124.5)\"><switch><foreignObject style=\"overflow:visible;\" pointer-events=\"all\" width=\"13\" height=\"12\" requiredFeatures=\"http://www.w3.org/TR/SVG11/feature#Extensibility\"><div xmlns=\"http://www.w3.org/1999/xhtml\" style=\"display: inline-block; font-size: 12px; font-family: Helvetica; color: rgb(0, 0, 0); line-height: 1.2; vertical-align: top; overflow: hidden; max-height: 16px; max-width: 36px; width: 13px; white-space: normal; text-align: center;\"><div xmlns=\"http://www.w3.org/1999/xhtml\" style=\"display:inline-block;text-align:inherit;text-decoration:inherit;\">Ly</div></div></foreignObject><text x=\"7\" y=\"12\" fill=\"#000000\" text-anchor=\"middle\" font-size=\"12px\" font-family=\"Helvetica\">Ly</text></switch></g><g transform=\"translate(134.5,4.5)\"><switch><foreignObject style=\"overflow:visible;\" pointer-events=\"all\" width=\"13\" height=\"12\" requiredFeatures=\"http://www.w3.org/TR/SVG11/feature#Extensibility\"><div xmlns=\"http://www.w3.org/1999/xhtml\" style=\"display: inline-block; font-size: 12px; font-family: Helvetica; color: rgb(0, 0, 0); line-height: 1.2; vertical-align: top; overflow: hidden; max-height: 16px; max-width: 36px; width: 13px; white-space: normal; text-align: center;\"><div xmlns=\"http://www.w3.org/1999/xhtml\" style=\"display:inline-block;text-align:inherit;text-decoration:inherit;\">Lx</div></div></foreignObject><text x=\"7\" y=\"12\" fill=\"#000000\" text-anchor=\"middle\" font-size=\"12px\" font-family=\"Helvetica\">Lx</text></switch></g></g></svg>"
      ],
      "text/plain": [
       "<IPython.core.display.SVG object>"
      ]
     },
     "execution_count": 5,
     "metadata": {},
     "output_type": "execute_result"
    }
   ],
   "source": [
    "#PYTEST_VALIDATE_IGNORE_OUTPUT\n",
    "\n",
    "from IPython.display import SVG\n",
    "try:\n",
    "    out = SVG(filename='../images/block1.svg')\n",
    "except: \n",
    "    out = None\n",
    "out"
   ]
  },
  {
   "cell_type": "markdown",
   "metadata": {},
   "source": [
    "### (b) Square no-flux"
   ]
  },
  {
   "cell_type": "markdown",
   "metadata": {},
   "source": [
    "A 2D square domain with $L_x = L_y = 200$ and no flux boundary conditions."
   ]
  },
  {
   "cell_type": "markdown",
   "metadata": {},
   "source": [
    "### (c) T-shape"
   ]
  },
  {
   "cell_type": "markdown",
   "metadata": {
    "collapsed": true
   },
   "source": [
    "A T-shaped region with zero flux boundary conditions and with dimensions, $a=b=100$  and  $c=d=20$."
   ]
  },
  {
   "cell_type": "code",
   "execution_count": 6,
   "metadata": {
    "scrolled": true
   },
   "outputs": [
    {
     "data": {
      "image/svg+xml": [
       "<svg xmlns=\"http://www.w3.org/2000/svg\" xmlns:xlink=\"http://www.w3.org/1999/xlink\" width=\"217px\" height=\"235px\" version=\"1.1\"><defs/><g transform=\"translate(0.5,0.5)\"><rect x=\"56\" y=\"43\" width=\"150\" height=\"40\" fill=\"#000000\" stroke=\"#000000\" pointer-events=\"none\"/><path d=\"M 36 76.63 L 36 49.37\" fill=\"none\" stroke=\"#000000\" stroke-miterlimit=\"10\" pointer-events=\"none\"/><path d=\"M 36 81.88 L 32.5 74.88 L 36 76.63 L 39.5 74.88 Z\" fill=\"#000000\" stroke=\"#000000\" stroke-miterlimit=\"10\" pointer-events=\"none\"/><path d=\"M 36 44.12 L 39.5 51.12 L 36 49.37 L 32.5 51.12 Z\" fill=\"#000000\" stroke=\"#000000\" stroke-miterlimit=\"10\" pointer-events=\"none\"/><path d=\"M 199.63 23 L 62.37 23\" fill=\"none\" stroke=\"#000000\" stroke-miterlimit=\"10\" pointer-events=\"none\"/><path d=\"M 204.88 23 L 197.88 26.5 L 199.63 23 L 197.88 19.5 Z\" fill=\"#000000\" stroke=\"#000000\" stroke-miterlimit=\"10\" pointer-events=\"none\"/><path d=\"M 57.12 23 L 64.12 19.5 L 62.37 23 L 64.12 26.5 Z\" fill=\"#000000\" stroke=\"#000000\" stroke-miterlimit=\"10\" pointer-events=\"none\"/><g transform=\"translate(122.5,4.5)\"><switch><foreignObject style=\"overflow:visible;\" pointer-events=\"all\" width=\"7\" height=\"12\" requiredFeatures=\"http://www.w3.org/TR/SVG11/feature#Extensibility\"><div xmlns=\"http://www.w3.org/1999/xhtml\" style=\"display: inline-block; font-size: 12px; font-family: Helvetica; color: rgb(0, 0, 0); line-height: 1.2; vertical-align: top; overflow: hidden; max-height: 16px; max-width: 36px; width: 7px; white-space: normal; text-align: center;\"><div xmlns=\"http://www.w3.org/1999/xhtml\" style=\"display:inline-block;text-align:inherit;text-decoration:inherit;\">b</div></div></foreignObject><text x=\"4\" y=\"12\" fill=\"#000000\" text-anchor=\"middle\" font-size=\"12px\" font-family=\"Helvetica\">b</text></switch></g><rect x=\"111\" y=\"83\" width=\"40\" height=\"110\" fill=\"#000000\" stroke=\"#000000\" pointer-events=\"none\"/><path d=\"M 86 186.63 L 86 89.37\" fill=\"none\" stroke=\"#000000\" stroke-miterlimit=\"10\" pointer-events=\"none\"/><path d=\"M 86 191.88 L 82.5 184.88 L 86 186.63 L 89.5 184.88 Z\" fill=\"#000000\" stroke=\"#000000\" stroke-miterlimit=\"10\" pointer-events=\"none\"/><path d=\"M 86 84.12 L 89.5 91.12 L 86 89.37 L 82.5 91.12 Z\" fill=\"#000000\" stroke=\"#000000\" stroke-miterlimit=\"10\" pointer-events=\"none\"/><path d=\"M 144.63 213 L 117.37 213\" fill=\"none\" stroke=\"#000000\" stroke-miterlimit=\"10\" pointer-events=\"none\"/><path d=\"M 149.88 213 L 142.88 216.5 L 144.63 213 L 142.88 209.5 Z\" fill=\"#000000\" stroke=\"#000000\" stroke-miterlimit=\"10\" pointer-events=\"none\"/><path d=\"M 112.12 213 L 119.12 209.5 L 117.37 213 L 119.12 216.5 Z\" fill=\"#000000\" stroke=\"#000000\" stroke-miterlimit=\"10\" pointer-events=\"none\"/><g transform=\"translate(72.5,141.5)\"><switch><foreignObject style=\"overflow:visible;\" pointer-events=\"all\" width=\"7\" height=\"12\" requiredFeatures=\"http://www.w3.org/TR/SVG11/feature#Extensibility\"><div xmlns=\"http://www.w3.org/1999/xhtml\" style=\"display: inline-block; font-size: 12px; font-family: Helvetica; color: rgb(0, 0, 0); line-height: 1.2; vertical-align: top; overflow: hidden; max-height: 16px; max-width: 36px; width: 7px; white-space: normal; text-align: center;\"><div xmlns=\"http://www.w3.org/1999/xhtml\" style=\"display:inline-block;text-align:inherit;text-decoration:inherit;\">a</div></div></foreignObject><text x=\"4\" y=\"12\" fill=\"#000000\" text-anchor=\"middle\" font-size=\"12px\" font-family=\"Helvetica\">a</text></switch></g><g transform=\"translate(17.5,56.5)\"><switch><foreignObject style=\"overflow:visible;\" pointer-events=\"all\" width=\"6\" height=\"12\" requiredFeatures=\"http://www.w3.org/TR/SVG11/feature#Extensibility\"><div xmlns=\"http://www.w3.org/1999/xhtml\" style=\"display: inline-block; font-size: 12px; font-family: Helvetica; color: rgb(0, 0, 0); line-height: 1.2; vertical-align: top; overflow: hidden; max-height: 16px; max-width: 36px; width: 7px; white-space: normal; text-align: center;\"><div xmlns=\"http://www.w3.org/1999/xhtml\" style=\"display:inline-block;text-align:inherit;text-decoration:inherit;\">c</div></div></foreignObject><text x=\"3\" y=\"12\" fill=\"#000000\" text-anchor=\"middle\" font-size=\"12px\" font-family=\"Helvetica\">c</text></switch></g><g transform=\"translate(127.5,216.5)\"><switch><foreignObject style=\"overflow:visible;\" pointer-events=\"all\" width=\"7\" height=\"12\" requiredFeatures=\"http://www.w3.org/TR/SVG11/feature#Extensibility\"><div xmlns=\"http://www.w3.org/1999/xhtml\" style=\"display: inline-block; font-size: 12px; font-family: Helvetica; color: rgb(0, 0, 0); line-height: 1.2; vertical-align: top; overflow: hidden; max-height: 16px; max-width: 36px; width: 7px; white-space: normal; text-align: center;\"><div xmlns=\"http://www.w3.org/1999/xhtml\" style=\"display:inline-block;text-align:inherit;text-decoration:inherit;\">d</div></div></foreignObject><text x=\"4\" y=\"12\" fill=\"#000000\" text-anchor=\"middle\" font-size=\"12px\" font-family=\"Helvetica\">d</text></switch></g></g></svg>"
      ],
      "text/plain": [
       "<IPython.core.display.SVG object>"
      ]
     },
     "execution_count": 6,
     "metadata": {},
     "output_type": "execute_result"
    }
   ],
   "source": [
    "#PYTEST_VALIDATE_IGNORE_OUTPUT\n",
    "\n",
    "from IPython.display import SVG\n",
    "try:\n",
    "    out = SVG(filename='../images/t-shape.svg')\n",
    "except:\n",
    "    out = None\n",
    "out"
   ]
  },
  {
   "cell_type": "markdown",
   "metadata": {},
   "source": [
    "### (d) Sphere"
   ]
  },
  {
   "cell_type": "markdown",
   "metadata": {},
   "source": [
    "The domain is the surface of a sphere with radius 100."
   ]
  },
  {
   "cell_type": "markdown",
   "metadata": {},
   "source": [
    "## Initial conditions"
   ]
  },
  {
   "cell_type": "markdown",
   "metadata": {},
   "source": [
    "The initial conditions for the first benchmark problem are chosen such that the average value of $c$ over the computational domain is approximately $0.5$."
   ]
  },
  {
   "cell_type": "markdown",
   "metadata": {},
   "source": [
    "### Initial conditions for (a), (b) and (c)"
   ]
  },
  {
   "cell_type": "markdown",
   "metadata": {},
   "source": [
    "The initial value of $c$ for the square and \"T\" computational domains is\n",
    "specified by \n",
    "$$\n",
    "c\\left(x,y\\right) =\n",
    "c_{0}+\\epsilon\\left[\\cos\\left(0.105x\\right)\\cos\\left(0.11y\\right)+\\left[\\cos\\left(0.13x\\right)\\cos\\left(0.087y\\right)\\right]^{2}\\right.\\nonumber \\\\\n",
    "  \\left.+\\cos\\left(0.025x-0.15y\\right)\\cos\\left(0.07x-0.02y\\right)\\right],\n",
    "$$\n",
    "where $c_{0}=0.5$ and $\\epsilon=0.01$."
   ]
  },
  {
   "cell_type": "markdown",
   "metadata": {},
   "source": [
    "#### Figure 2: initial $c$ for (a), (b) and (c)"
   ]
  },
  {
   "cell_type": "code",
   "execution_count": 7,
   "metadata": {},
   "outputs": [
    {
     "ename": "ModuleNotFoundError",
     "evalue": "No module named 'bokeh'",
     "output_type": "error",
     "traceback": [
      "\u001b[0;31m---------------------------------------------------------------------------\u001b[0m",
      "\u001b[0;31mModuleNotFoundError\u001b[0m                       Traceback (most recent call last)",
      "Cell \u001b[0;32mIn[7], line 4\u001b[0m\n\u001b[1;32m      1\u001b[0m \u001b[38;5;66;03m#PYTEST_VALIDATE_IGNORE_OUTPUT\u001b[39;00m\n\u001b[1;32m      3\u001b[0m \u001b[38;5;28;01mimport\u001b[39;00m \u001b[38;5;21;01mnumpy\u001b[39;00m \u001b[38;5;28;01mas\u001b[39;00m \u001b[38;5;21;01mnp\u001b[39;00m\n\u001b[0;32m----> 4\u001b[0m \u001b[38;5;28;01mfrom\u001b[39;00m \u001b[38;5;21;01mbokeh\u001b[39;00m\u001b[38;5;21;01m.\u001b[39;00m\u001b[38;5;21;01mplotting\u001b[39;00m \u001b[38;5;28;01mimport\u001b[39;00m figure, show, output_file, output_notebook, gridplot\n\u001b[1;32m      5\u001b[0m \u001b[38;5;28;01mfrom\u001b[39;00m \u001b[38;5;21;01mbokeh\u001b[39;00m\u001b[38;5;21;01m.\u001b[39;00m\u001b[38;5;21;01mmodels\u001b[39;00m \u001b[38;5;28;01mimport\u001b[39;00m FixedTicker\n\u001b[1;32m      6\u001b[0m output_notebook()\n",
      "\u001b[0;31mModuleNotFoundError\u001b[0m: No module named 'bokeh'"
     ]
    }
   ],
   "source": [
    "#PYTEST_VALIDATE_IGNORE_OUTPUT\n",
    "\n",
    "import numpy as np\n",
    "from bokeh.plotting import figure, show, output_file, output_notebook, gridplot\n",
    "from bokeh.models import FixedTicker\n",
    "output_notebook()\n",
    "from bokeh.palettes import brewer, RdBu11, Inferno256\n",
    "from bokeh.models.mappers import LinearColorMapper\n",
    "import matplotlib as plt\n",
    "import matplotlib.cm as cm\n",
    "import numpy as np\n",
    "from bokeh.models import HoverTool, BoxSelectTool\n",
    "\n",
    "def generate_colorbar(mapper, width, height, n_ticks):\n",
    "    high, low = mapper.high, mapper.low\n",
    "    pcb = figure(width=width,\n",
    "                 height=height,\n",
    "                 x_range=[0, 1],\n",
    "                 y_range=[low, high],\n",
    "                 min_border_right=10)\n",
    "    pcb.image(image=[np.linspace(low, high, 400).reshape(400,1)],\n",
    "              x=[0],\n",
    "              y=[low],\n",
    "              dw=[1],\n",
    "              dh=[high - low],\n",
    "              color_mapper=mapper)\n",
    "    pcb.xaxis.major_label_text_color = None\n",
    "    pcb.xaxis.major_tick_line_color = None\n",
    "    pcb.xaxis.minor_tick_line_color = None\n",
    "    pcb.yaxis[0].ticker=FixedTicker(ticks=np.linspace(low, high, n_ticks))\n",
    "    return pcb\n",
    "\n",
    "def generate_contour_plot(data, xrange, yrange, width, height, mapper):               \n",
    "    p = figure(x_range=xrange, y_range=yrange, width=width, height=height, min_border_right=10)\n",
    "    aa = p.image(image=[data],\n",
    "                 x=xrange[0],\n",
    "                 y=yrange[0],\n",
    "                 dw=xrange[1] - xrange[0],\n",
    "                 dh=yrange[1] - yrange[0],\n",
    "                 color_mapper=mapper)\n",
    "    return p\n",
    "\n",
    "\n",
    "def get_data(xrange, yrange, data_func):\n",
    "    N = 300\n",
    "    xx, yy = np.meshgrid(np.linspace(xrange[0], xrange[1], N),\n",
    "                         np.linspace(yrange[0], yrange[1], N))\n",
    "    data = data_func(xx, yy)\n",
    "    return xx, yy, data\n",
    "\n",
    "def get_color_mapper(mpl_cm, high, low):\n",
    "    colormap =cm.get_cmap(mpl_cm)\n",
    "    bokehpalette = [plt.colors.rgb2hex(m) for m in colormap(np.arange(colormap.N))]\n",
    "    mapper = LinearColorMapper(high=high,\n",
    "                               low=low,\n",
    "                               palette=bokehpalette)\n",
    "    return mapper\n",
    "\n",
    "def get_data_square(data_func):\n",
    "    return get_data((0, 200), (0, 200), data_func)\n",
    "\n",
    "def get_data_tshape(data_func):\n",
    "    xx, yy, data = get_data((-40, 60), (0, 120), data_func)\n",
    "    mask = ((xx < 0) | (xx > 20)) & (yy < 100)\n",
    "    data[mask] = 0.5\n",
    "    return xx, yy, data\n",
    "\n",
    "def get_plot_grid(data_xy_func, high, low, n_ticks):\n",
    "    mapper = get_color_mapper(cm.coolwarm, high, low)\n",
    "    width, height = 300, 300\n",
    "\n",
    "    all_plots = []\n",
    "    for data_func in get_data_square, get_data_tshape:\n",
    "        xx, yy, data = data_func(data_xy_func)\n",
    "        contour_plot = generate_contour_plot(data,\n",
    "                                             (xx.min(), xx.max()),\n",
    "                                             (yy.min(), yy.max()),\n",
    "                                             width,\n",
    "                                             height,\n",
    "                                             mapper)\n",
    "        all_plots.append(contour_plot)\n",
    "    \n",
    "    all_plots.append(generate_colorbar(mapper, width // 4, height, n_ticks))\n",
    "    return gridplot([all_plots]) \n",
    "\n",
    "def initial_concentration(x, y, epsilon=0.01, c_0=0.5):\n",
    "    return c_0 + epsilon * (np.cos(0.105 * x) * np.cos(0.11 * y) + (np.cos(0.13 * x) * np.cos(0.087 * y))**2 \\\n",
    "                            + np.cos(0.025 * x - 0.15 * y) * np.cos(0.07 * x - 0.02 * y))\n",
    "\n",
    "show(get_plot_grid(initial_concentration, 0.53, 0.47, 7),\n",
    "     notebook_handle=True,\n",
    "     browser=None);"
   ]
  },
  {
   "cell_type": "markdown",
   "metadata": {},
   "source": [
    "### Initial conditions for (d)"
   ]
  },
  {
   "cell_type": "markdown",
   "metadata": {},
   "source": [
    "The initial value of $c$ for the spherical computational domain is specified by\n",
    "$$\n",
    "c\\left(\\theta,\\phi\\right) = c_{0}+\\epsilon_{sphere}\\left[\\cos\\left(8\\theta\\right)\\cos\\left(15\\phi\\right)+\\left(\\cos\\left(12\\theta\\right)\\cos\\left(10\\phi\\right)\\right)^{2}\\right.\\nonumber \\\\\n",
    "+\\left.\\cos\\left(2.5\\theta-1.5\\phi\\right)\\cos\\left(7\\theta-2\\phi\\right)\\right],\n",
    "$$\n",
    "where $\\epsilon_{\\text{sphere}}=0.05$, and $\\theta$ and $\\phi$ are the polar and azimuthal angles, respectively, in a spherical coordinate system. These angles are translated into a Cartesian system as $\\theta=\\cos^{-1}\\left(z/r\\right)$ and $\\phi=\\tan^{-1}\\left(y/x\\right)$ dependent upon angle."
   ]
  },
  {
   "cell_type": "markdown",
   "metadata": {},
   "source": [
    "#### Figure 3: initial $c$ for (d)"
   ]
  },
  {
   "cell_type": "code",
   "execution_count": null,
   "metadata": {},
   "outputs": [],
   "source": [
    "from mpl_toolkits.mplot3d import Axes3D\n",
    "import numpy as np\n",
    "from skimage import measure\n",
    "import matplotlib.pyplot as plt\n",
    "from matplotlib.tri import Triangulation\n",
    "from matplotlib import ticker\n",
    "import matplotlib.cm as cm\n",
    "\n",
    "\n",
    "def get_geometry(R=100., NN=60):\n",
    "    X, Y, Z = np.mgrid[-R * 1.1:R * 1.1:NN * 1j, -R * 1.1:R * 1.1:NN * 1j, -R * 1.1:R * 1.1:NN * 1j]\n",
    "    surf_eq = np.sqrt(X**2 + Y**2 + Z**2) - R\n",
    "    coords, triangles = measure.marching_cubes(surf_eq, 0)\n",
    "    rescale = lambda xx: (2 * R * 1.1 * (np.array(xx) / (NN - 1) - 0.5)).ravel()\n",
    "    return tuple(rescale(xx) for xx in zip(*coords)) + (triangles,)\n",
    "\n",
    "def triangle_data(data_func, geometry):\n",
    "    x, y, z, triangles = geometry\n",
    "    return data_func(x, y, z)[triangles].mean(1)\n",
    "\n",
    "def get_mpl_triangulation(geometry):\n",
    "    x, y, z, triangles = geometry\n",
    "    return Triangulation(x, y, triangles)\n",
    "\n",
    "def make_colorbar(fig, collec):\n",
    "    colorbar = fig.colorbar(collec, shrink=0.3)\n",
    "    colorbar.locator = ticker.MaxNLocator(nbins=5)\n",
    "    colorbar.update_ticks()\n",
    "\n",
    "def plot_3d_sphere(data_func):\n",
    "    geometry = get_geometry()\n",
    "    fig = plt.figure(figsize=(8, 8))\n",
    "    ax = fig.gca(projection='3d')\n",
    "    collec = ax.plot_trisurf(get_mpl_triangulation(geometry),\n",
    "                             geometry[2],\n",
    "                             cmap=cm.coolwarm,\n",
    "                             linewidth=0.0,\n",
    "                             edgecolor=\"none\")  \n",
    "    collec.set_array(triangle_data(data_func, geometry))\n",
    "    collec.autoscale()\n",
    "    ax.set_aspect('equal')\n",
    "    ax.set_axis_off()\n",
    "    make_colorbar(fig, collec)\n",
    "    plt.show()\n",
    "\n",
    "def conc_func(x, y, z, c_0=0.5, epsilon_sphere=0.05):\n",
    "    r = np.sqrt(x**2 + y**2 + z**2)\n",
    "    theta = np.arccos(z / r)\n",
    "    phi = np.arctan(y / x)\n",
    "    return c_0 + epsilon_sphere * (np.cos(8 * theta) * np.cos(15 * phi) \\\n",
    "                                   + (np.cos(12 * theta) * np.cos(10 * phi))**2 \\\n",
    "                                   + np.cos(2.5 * theta - 1.5 * phi) * np.cos(7 * theta - 2 * phi))\n",
    "\n",
    "plot_3d_sphere(conc_func)"
   ]
  },
  {
   "cell_type": "markdown",
   "metadata": {},
   "source": [
    "## Submission Guidelines\n",
    "\n",
    "Please follow these [upload instructions](https://github.com/usnistgov/pfhub/blob/master/upload.md).\n",
    "\n",
    "In addition to that specified, further data to upload can include a YouTube video, snapshots of the simulation at different times, or the field variable at each point in the entire domain at different times. This auxiliary data is not required, but will help others view your work.\n",
    "\n",
    "### Part (a)\n",
    "\n",
    "Part (a) requires running the simulation to equilibrium, and the following data should be collected.\n",
    "\n",
    "- The free energy integrated over the whole domain, $\\mathcal{F}$, at each timestep. \n",
    "\n",
    "  The free energy data should be recorded in a file named `free_energy_1a.csv`. This plain-text CSV file ([comma-separated values](https://en.wikipedia.org/wiki/Comma-separated_values)) must have the following format -- note the column headings and lack of spaces:\n",
    "\n",
    "  ```\n",
    "  time,free_energy\n",
    "  0.00000000,319.0337102\n",
    "  5.00000000,318.8273928\n",
    "  ...\n",
    "  10000.0000,40.81065093\n",
    "  ...\n",
    "  ```\n",
    " \n",
    "- The composition field, $c$, at each grid point in the domain at the following times (aspirational):\n",
    "  - 1,000\n",
    "  - 10,000\n",
    "  - 100,000\n",
    "  - 1,000,000\n",
    "\n",
    "  You may provide this data in whatever format you consider \"most useful,\" e.g. a checkpoint file in the format native to your phase-field simulation framework, and the PFHub operations team will attempt to handle it correctly.\n",
    "  Optionally, please consider also uploading a VTK ImageData file. If your mesh is unstructured or irregular, this will require appropriate interpolation prior to export. This can be accomplished using common scientific visualization software, e.g. using the PointVolumeInterpolator filter in ParaView.<sup>&#8225;</sup>\n",
    "\n",
    "  The names of these data files should encode the time and problem, e.g.,\n",
    "  `raw_data_1a.0001000.vti`, `raw_data_1a.0010000.vti`, `raw_data_1a.0100000.vti`, and `raw_data_1a.1000000.vti`.\n",
    "\n",
    "<sup>&#8225;</sup>: Any mention of commercial products within NIST web pages is for information only; it does not imply recommendation or endorsement by NIST.\n",
    "\n",
    "### Parts (b) through (d)\n",
    "\n",
    "The same data as in Part (a) are required, stored in appropriately named files: please follow the same instructions, modifying \"1a\" with the appropriate letter (\"1b\", \"1c\", etc.)."
   ]
  },
  {
   "cell_type": "markdown",
   "metadata": {},
   "source": [
    "## Results\n",
    "\n",
    "Results from this benchmark problem are displayed on the [simulation result page]({{ site.baseurl }}/simulations) for different codes."
   ]
  },
  {
   "cell_type": "markdown",
   "metadata": {},
   "source": [
    "## Feedback\n",
    "\n",
    "Feedback on this benchmark problem is appreciated. If you have questions, comments, or seek clarification, please contact the [CHiMaD phase field community]({{ site.baseurl }}/community/) through the [Gitter chat channel]({{ site.links.chat }}) or by [email]({{ site.baseurl }}/mailing_list/). If you found an error, please file an [issue on GitHub]({{ site.links.github }}/issues/new)."
   ]
  }
 ],
 "metadata": {
  "anaconda-cloud": {},
  "kernelspec": {
   "display_name": "Python 3 (ipykernel)",
   "language": "python",
   "name": "python3"
  },
  "language_info": {
   "codemirror_mode": {
    "name": "ipython",
    "version": 3
   },
   "file_extension": ".py",
   "mimetype": "text/x-python",
   "name": "python",
   "nbconvert_exporter": "python",
   "pygments_lexer": "ipython3",
   "version": "3.9.16"
  }
 },
 "nbformat": 4,
 "nbformat_minor": 1
}
